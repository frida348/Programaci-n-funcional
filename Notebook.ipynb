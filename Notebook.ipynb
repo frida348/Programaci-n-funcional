{
 "cells": [
  {
   "cell_type": "markdown",
   "id": "781dd3ce-3e48-4c7d-85dd-3d36cb8cb838",
   "metadata": {},
   "source": [
    "Equipo #11, Frida Pineda Alvarado, Miguel Angel Reyes Martínez"
   ]
  },
  {
   "cell_type": "markdown",
   "id": "44f46674-92f6-4516-a178-2cd16e0b4f17",
   "metadata": {},
   "source": [
    "# Ejercicios #"
   ]
  },
  {
   "cell_type": "markdown",
   "id": "40911047-d15c-4542-ae09-aff487bab9e4",
   "metadata": {},
   "source": [
    "## **1.** Defina una función para la evaluación del número combinatorio C(n,k), que utiliza la definición recursiva. ## "
   ]
  },
  {
   "cell_type": "markdown",
   "id": "6d4bc960-aff1-4885-a7af-583d379a5234",
   "metadata": {},
   "source": [
    "**Entradas:**\n",
    "\n",
    "n: Número total de elementos.\n",
    "\n",
    "k: Número de elementos a seleccionar.\n",
    "\n",
    "\n",
    "**Proceso y salida**:\n",
    "\n",
    "Si n es menor que k, entonces el resultado es 0 porque no se pueden seleccionar k elementos de un conjunto de n elementos si k es mayor que n.\n",
    "\n",
    "Si k es 0, entonces el resultado es 1 porque solo hay una forma de seleccionar 0 elementos de un conjunto de n elementos.\n",
    "\n",
    "Si n es igual a k, entonces el resultado es 1 porque solo hay una forma de seleccionar n elementos de un conjunto de n elementos.\n",
    "\n",
    "Salida: La función retorna el número combinatorio C(n, k) que es el número de formas de seleccionar k elementos de un conjunto de n elementos."
   ]
  },
  {
   "cell_type": "code",
   "execution_count": null,
   "id": "143b228b-acee-469c-ae58-48aa17477380",
   "metadata": {},
   "outputs": [],
   "source": [
    "(define (combinatorio n k)\n",
    "  (if (< n k) \n",
    "      0\n",
    "      (if (= k 0) \n",
    "          1\n",
    "          (if (= n k) \n",
    "              1\n",
    "              (+ (combinatorio (- n 1) (- k 1)) (combinatorio (- n 1) k))\n",
    "          )\n",
    "      )\n",
    "  ))\n",
    "\n",
    "(combinatorio 3 2)"
   ]
  },
  {
   "cell_type": "markdown",
   "id": "d90fd4ec-ff33-4540-a9a5-44dfd2d32557",
   "metadata": {},
   "source": [
    "## **2.** Defina una función recursiva para calcular el Máximo Común Divisor de dos enteros negativos a y b con a < b usando el hecho de que MCD(a, b) = MCD(a, b-a)."
   ]
  },
  {
   "cell_type": "markdown",
   "id": "3c9154e2-eeed-4db4-be71-d598a2e174d5",
   "metadata": {},
   "source": [
    "**Entradas:**\n",
    "\n",
    "a y b: Dos números enteros para calcular el MCD.\n",
    "\n",
    "\n",
    "**Proceso y salida**:\n",
    "\n",
    "Si a es igual a b, la función imprime a y termina.\n",
    "\n",
    "Si a es menor que b, entonces la función se llama a sí misma con a y la diferencia entre b y a como nuevos argumentos.\n",
    "\n",
    "Si a es mayor que b, entonces la función se llama a sí misma con b y a como nuevos argumentos."
   ]
  },
  {
   "cell_type": "code",
   "execution_count": 5,
   "id": "e1a53f97-5387-4c9a-97bc-71bd0363097d",
   "metadata": {},
   "outputs": [
    {
     "name": "stdout",
     "output_type": "stream",
     "text": [
      "5\n"
     ]
    }
   ],
   "source": [
    "(define (mcd a b)\n",
    "  (if (= a b) (displayln a)\n",
    "      (if (< a b) (mcd a (- b a))\n",
    "          (mcd b a)\n",
    "      )\n",
    "  )\n",
    ")\n",
    "\n",
    "(mcd 10 5)"
   ]
  },
  {
   "cell_type": "markdown",
   "id": "40f031e3-aa5d-465f-b2f0-f48c90277b5e",
   "metadata": {},
   "source": [
    "## **3.** Definir una función que devuelva, en una lista, todos los números primos desde un número inicial hasta un número final, ejemplo: (primos 3 10) este ejemplo devolverá ‘(5 7)."
   ]
  },
  {
   "cell_type": "markdown",
   "id": "ccc0d7e3-270d-4254-a4b6-f0c83795b017",
   "metadata": {},
   "source": [
    "**Función primo:** \n",
    "\n",
    "Toma un número entero n como entrada y devuelve #t (verdadero) si n es un número primo y #f (falso) si no lo es. La función utiliza un bucle para dividir n por todos los números desde 2 hasta la raíz cuadrada de n.\n",
    "\n",
    "Entrada: Un número entero n.\n",
    "\n",
    "Salida: #t (verdadero) si n es un número primo y #f (falso) si no lo es.\n",
    "\n",
    "\n",
    "**Función primos:** \n",
    "\n",
    "Toma dos números enteros inicio y fin como entrada y devuelve una lista de todos los números primos en el rango desde inicio hasta fin. Se utiliza la función primo para comprobar si cada número en el rango es primo. Si es, se añade a la lista de números primos.\n",
    "\n",
    "Entrada: Dos números enteros inicio y fin (rango).\n",
    "\n",
    "Salida: Lista de todos los números primos en el rango desde inicio hasta fin ."
   ]
  },
  {
   "cell_type": "code",
   "execution_count": null,
   "id": "32ceff1e-e013-4f1b-a138-efd68cf37694",
   "metadata": {},
   "outputs": [],
   "source": [
    "(define (primo n)\n",
    "  (if (= n 1)\n",
    "      #f\n",
    "      (let loop ((i 2))\n",
    "        (if (> (* i i) n)\n",
    "            #t\n",
    "            (if (zero? (remainder n i))\n",
    "                #f\n",
    "                (loop (+ i 1)))))))\n",
    "\n",
    "(define (primos inicio fin)\n",
    "  (if (> inicio fin)\n",
    "      '()\n",
    "      (if (primo inicio)\n",
    "          (cons inicio (primos (+ inicio 1) fin))\n",
    "          (primos (+ inicio 1) fin))))\n",
    "\n",
    "(primos 3 10)"
   ]
  },
  {
   "cell_type": "markdown",
   "id": "e0519ccd-888f-4794-9e34-be7879c06ec5",
   "metadata": {},
   "source": [
    "## **4.** Realizar una función para buscar un elemento en una lista, regresar #t si lo encontró y #f si no lo encontró.\n",
    "   \n",
    "*a.* Ejemplo de entrada: (busca 4 ‘(2 4 5))\n",
    "   \n",
    "*b*. Ejemplo de salida: #t"
   ]
  },
  {
   "cell_type": "markdown",
   "id": "3340d943-8fb4-4f64-ae73-67c1f2bfbd2c",
   "metadata": {},
   "source": [
    "**Entradas:**\n",
    "\n",
    "lista: Es la lista en la que se buscará el elemento.\n",
    "\n",
    "n: Es el elemento que se buscará en la lista.\n",
    "\n",
    "\n",
    "\n",
    "**Salida:**\n",
    "\n",
    "Si lista no es una lista, se mostrará el mensaje “Esto no es una lista”.\n",
    "\n",
    "Si lista está vacía, se mostrará el mensaje “La lista está vacía”.\n",
    "\n",
    "Si n es un miembro de lista, la función mostrará “#t”, que representa verdadero.\n",
    "\n",
    "Si n no es un miembro de lista, la función mostrará “#f”, que representa falso."
   ]
  },
  {
   "cell_type": "code",
   "execution_count": 14,
   "id": "5cc6a62a-2878-489f-ab70-4a0cb944fec8",
   "metadata": {},
   "outputs": [
    {
     "name": "stdout",
     "output_type": "stream",
     "text": [
      "#f\n"
     ]
    }
   ],
   "source": [
    "(define (busqueda lista n)\n",
    "  (if (not (list? lista)) (displayln \"Esto no es una lista\")\n",
    "      (if (null? lista) (displayln \"La lista está vacía\")\n",
    "          (if (member n lista) (displayln \"#t\")\n",
    "              (displayln \"#f\")\n",
    "          )\n",
    "      )\n",
    "   )\n",
    ")\n",
    "\n",
    "(busqueda '(5 6 7) 4)"
   ]
  },
  {
   "cell_type": "markdown",
   "id": "7f058baf-3042-4d8b-9bb5-aa6282a5bf6f",
   "metadata": {},
   "source": [
    "## **5.** Realizar una función recursiva que invierta una lista.\n",
    "\n",
    "*a.* Ejemplo de entrada: (invierte ‘(2 4 5))\n",
    "\n",
    "*b.* Ejemplo de salida: (5 4 2)"
   ]
  },
  {
   "cell_type": "markdown",
   "id": "90f79881-a0a6-4b06-ad45-ade0dcbadb1f",
   "metadata": {},
   "source": [
    "**Función invertir:**\n",
    "\n",
    "Entradas:\n",
    "\n",
    "lista: Es la lista que se va a invertir.\n",
    "\n",
    "Salidas:\n",
    "\n",
    "Si lista no es una lista, se mostrará el mensaje “Esto no es una lista”.\n",
    "\n",
    "Si lista está vacía, se mostrará el mensaje “La lista está vacía”.\n",
    "\n",
    "Si lista no está vacía, la función llama a acumulador con lista y una lista vacía como argumentos."
   ]
  },
  {
   "cell_type": "markdown",
   "id": "5c458fcf-f129-44db-86c1-7238a61d0f00",
   "metadata": {},
   "source": [
    "**Función acumulador:**\n",
    "\n",
    "Entradas:\n",
    "\n",
    "lista: Es la lista que se va a invertir.\n",
    "\n",
    "resultado: Es la lista acumulada de los elementos invertidos hasta ahora.\n",
    "\n",
    "Salidas:\n",
    "\n",
    "Si lista está vacía, la función mostrará el resultado.\n",
    "\n",
    "Si lista no está vacía, la función se llama a sí misma con el resto de la lista (cdr lista) y el resultado concatenado con el primer elemento de la lista (cons (car lista) resultado)."
   ]
  },
  {
   "cell_type": "code",
   "execution_count": 15,
   "id": "f8d7422b-92fa-4f37-bfe0-49020ee71140",
   "metadata": {},
   "outputs": [
    {
     "name": "stdout",
     "output_type": "stream",
     "text": [
      "(5 4 3 2 1)\n"
     ]
    }
   ],
   "source": [
    "(define (invertir lista)\n",
    "  (if (not (list? lista)) (displayln \"Esto no es una lista\")\n",
    "      (if (null? lista) (displayln \"La lista está vacía\")\n",
    "          (acumulador lista '())\n",
    "      )\n",
    "   )\n",
    ")\n",
    "\n",
    "(define (acumulador lista resultado)\n",
    "  (if (null? lista) (displayln resultado)\n",
    "      (acumulador (cdr lista) (cons (car lista) resultado))\n",
    "  )\n",
    ")\n",
    "\n",
    "(invertir '(1 2 3 4 5))"
   ]
  },
  {
   "cell_type": "markdown",
   "id": "9e18142e-702a-45a9-8a2e-28ff735b7ae9",
   "metadata": {},
   "source": [
    "## **6.** Realizar una función recursiva que elimine un elemento de una lista.\n",
    "\n",
    "*a.* Ejemplo de entrada: (elimina 4 ‘(2 4 5))\n",
    "\n",
    "*b.* Ejemplo de salida: (2 5)"
   ]
  },
  {
   "cell_type": "markdown",
   "id": "f68b48d4-72ed-4e8a-9b70-a2779577a6d0",
   "metadata": {},
   "source": [
    "**Función eliminar:**\n",
    "\n",
    "Toma dos argumentos: lista y n.\n",
    "\n",
    "lista: Es la lista de la cual se eliminarán las ocurrencias de n.\n",
    "\n",
    "n: Es el elemento que se eliminará de la lista.\n",
    "\n",
    "La función primero verifica si el argumento lista es realmente una lista. Si no lo es, imprime “Esto no es una lista”. Si lista está vacía, imprime “La lista está vacía”. Si n no es parte de lista, imprime “El elemento no está en la lista”. Si ninguna de estas condiciones se cumple, llama a la función eliminador con lista y n como argumentos.\n",
    "\n",
    "\n",
    "\n",
    "**Función eliminador:** \n",
    "\n",
    "Esta función también toma dos argumentos: lista y n. Recorre recursivamente la lista. Si encuentra n, omite ese elemento y continúa con el resto de la lista. Si el elemento no es n, lo conserva y continúa con el resto de la lista. La función eliminador devuelve una nueva lista que es igual a la lista original pero sin n."
   ]
  },
  {
   "cell_type": "code",
   "execution_count": 21,
   "id": "f6072049-661d-4090-8858-687aed4f3420",
   "metadata": {},
   "outputs": [
    {
     "data": {
      "text/html": [
       "<code>'(1 2 3 5)</code>"
      ],
      "text/plain": [
       "'(1 2 3 5)"
      ]
     },
     "execution_count": 21,
     "metadata": {},
     "output_type": "execute_result"
    }
   ],
   "source": [
    "(define (eliminar lista n)\n",
    "  (if (not (list? lista))(displayln \"Esto no es una lista\")\n",
    "      (if (null? lista) (displayln \"La lista está vacía\")\n",
    "          (if (not(member n lista)) (displayln \"El elemento no está en la lista\")\n",
    "              (eliminador lista n) \n",
    "          )\n",
    "       )\n",
    "   )\n",
    ")\n",
    "\n",
    "(define (eliminador lista n)\n",
    "  (if (null? lista) '()\n",
    "      (if (equal? (car lista) n)(eliminador (cdr lista) n)\n",
    "          (cons (car lista) (eliminador (cdr lista) n))\n",
    "      )\n",
    "   )\n",
    ")\n",
    "\n",
    "(eliminar '(1 2 3 4 5) 4)"
   ]
  },
  {
   "cell_type": "markdown",
   "id": "506da461-21fb-442e-a209-5ecc5548eaf8",
   "metadata": {},
   "source": [
    "## **7.** Dado un número entero positivo, realizar una función recursiva que devuelva verdadero (#t) si el número dado es un palíndromo, en caso contrario, retornar falso (#f). Por ejemplo, 12321 es un palíndromo, pero 1451 no es un palíndromo. No use la función reverse de Racket.\n",
    "\n",
    "*a.* Ejemplo de entrada: (palindromo 12321)\n",
    "\n",
    "*b.* Ejemplo de salida: #f"
   ]
  },
  {
   "cell_type": "markdown",
   "id": "c16af67d-12da-4c60-bf7d-6dff3a9a8602",
   "metadata": {},
   "source": [
    "**Entradas:**\n",
    "\n",
    "n: Número entero que se verificará si es un palíndromo.\n",
    "\n",
    "\n",
    "**Proceso:**\n",
    "\n",
    "Convierte el número n a una cadena de caracteres str.\n",
    "\n",
    "Calcula la longitud de la cadena str.\n",
    "\n",
    "Si la longitud de la cadena es 1 o menos, entonces el n es un palíndromo y la función retorna #t (verdadero).\n",
    "\n",
    "Si el primer y el último carácter de la cadena no son iguales, entonces n no es un palíndromo y la función retorna #f (falso).\n",
    "\n",
    "Si ninguna de las condiciones anteriores se cumple, la función se llama a sí misma recursivamente en el resto de la cadena.\n",
    "\n",
    "\n",
    "**Salida:** \n",
    "\n",
    "La función retorna #t si el número n es un palíndromo y #f en caso contrario."
   ]
  },
  {
   "cell_type": "code",
   "execution_count": 1,
   "id": "87912a5f-12ce-4d9b-a15c-97d22942c001",
   "metadata": {},
   "outputs": [
    {
     "data": {
      "text/html": [
       "<code>#f</code>"
      ],
      "text/plain": [
       "#f"
      ]
     },
     "execution_count": 1,
     "metadata": {},
     "output_type": "execute_result"
    }
   ],
   "source": [
    "(define (palindromo n)\n",
    "  (let* ((str (number->string n))\n",
    "         (len (string-length str)))\n",
    "    \n",
    "    (if (<= len 1)\n",
    "        #t\n",
    "        (if (not (char=? (string-ref str 0) (string-ref str (- len 1))))\n",
    "            #f\n",
    "            (palindromo (string->number (substring str 1 (- len 1))))\n",
    "            ))))\n",
    "\n",
    "(palindromo 123212)\n"
   ]
  },
  {
   "cell_type": "markdown",
   "id": "538bbbb3-23d4-486c-a3cd-8b176acb8af7",
   "metadata": {},
   "source": [
    "## **8.** Realizar una función recursiva que, dado un número entero, encuentra la suma de sus dígitos. No use funciones incorporadas de Racket.\n",
    "\n",
    "*a.* Ejemplo de entrada: (SumaDigitos 457)\n",
    "\n",
    "*b.* Ejemplo de salida: 16"
   ]
  },
  {
   "cell_type": "markdown",
   "id": "a6d96f86-fae5-4714-ad7a-04f83de30a05",
   "metadata": {},
   "source": [
    "La función SumaDigitos toma un número entero n como entrada y devuelve la suma de sus dígitos. Utiliza la recursión para dividir n por 10 (estamos trabajando con números en base 10 ya que es el sistema decimal que usamos), hasta que este sea un número de un solo dígito. En cada paso de la recursión, se calcula el residuo de n dividido por 10 ( el último dígito de n) y se le suma al resultado de la llamada recursiva a SumaDigitos con n dividido entre 10 (n con su último dígito eliminado)."
   ]
  },
  {
   "cell_type": "code",
   "execution_count": 13,
   "id": "887e21ab-1bf1-45fd-a7c7-b49006ca0f63",
   "metadata": {},
   "outputs": [
    {
     "data": {
      "text/html": [
       "<code>16</code>"
      ],
      "text/plain": [
       "16"
      ]
     },
     "execution_count": 13,
     "metadata": {},
     "output_type": "execute_result"
    }
   ],
   "source": [
    "(define (SumaDigitos n)\n",
    "  (if (< n 10)\n",
    "      n\n",
    "      (+ (remainder n 10) (SumaDigitos (quotient n 10)))))\n",
    "\n",
    "(SumaDigitos 457)"
   ]
  },
  {
   "cell_type": "markdown",
   "id": "a685fe28-5dee-4a16-9869-322b07a6a530",
   "metadata": {},
   "source": [
    "## **9.** Realizar una función recursiva que, dado un número entero decimal retorne el número binario equivalente. No use funciones incorporadas de Racket.\n",
    "\n",
    "*a.* Ejemplo de entrada: (Binario 123)\n",
    "\n",
    "*b.* Ejemplo de salida: 1111011"
   ]
  },
  {
   "cell_type": "markdown",
   "id": "c333d494-776f-4f14-9a30-2c66acb9b8e5",
   "metadata": {},
   "source": [
    "El código define tres funciones (Binario, lista->numero y decimal->binario).\n",
    "\n",
    "-Función Binario: Esta función toma un número entero n como entrada y devuelve una lista de dígitos binarios. Utiliza la recursión para dividir n por 2 hasta que n sea menor que 2 (ya que 0 y 1 son los únicos dígitos en binario). En cada paso de la recursión, se calcula el residuo de n dividido por 2 (es decir, el último dígito binario de n) y se agrega a la lista de dígitos binarios.\n",
    "\n",
    "-Función lista->numero: Esta función toma una lista de dígitos y devuelve una cadena que representa el número formado por esos dígitos. La función utiliza la recursión para procesar cada dígito de la lista uno por uno.\n",
    "\n",
    "-Función decimal->binario: Función principal. Se le debe llamar para convertir un número decimal a binario. Toma un número entero n como entrada y devuelve una cadena que representa el número binario equivalente a n. La función hace esto llamando a las funciones Binario y lista->numero en orden."
   ]
  },
  {
   "cell_type": "code",
   "execution_count": 12,
   "id": "b0dafe48-266a-4996-adc8-5eb80dc98fb9",
   "metadata": {},
   "outputs": [
    {
     "data": {
      "text/html": [
       "<code>'(1 1 1 1 0 1 1)</code>"
      ],
      "text/plain": [
       "'(1 1 1 1 0 1 1)"
      ]
     },
     "execution_count": 12,
     "metadata": {},
     "output_type": "execute_result"
    }
   ],
   "source": [
    "(define (Binario n)\n",
    "  (if (< n 2)\n",
    "      (list n)\n",
    "      (append (Binario (quotient n 2)) (list (remainder n 2)))))\n",
    "\n",
    "(define (lista->numero lista)\n",
    "  (if (null? lista)\n",
    "      \" \"\n",
    "      (string-append (number->string (car lista)) (lista->numero (cdr lista)))))\n",
    "\n",
    "(define (decimal->binario n)\n",
    "  (lista->numero (Binario n)))\n",
    "\n",
    "(Binario 123)"
   ]
  },
  {
   "cell_type": "markdown",
   "id": "e0eca134-58e8-4baa-9b74-7540fdc5fbf2",
   "metadata": {},
   "source": [
    "## **10.** Utilizando la serie de Leibnitz y mediante una función recursiva, calcule el valor de PI."
   ]
  },
  {
   "cell_type": "markdown",
   "id": "4532d541-b8d9-4636-9def-69a5730035e1",
   "metadata": {},
   "source": [
    "La función calcularpi es una función recursiva que implementa la serie de Leibnitz para calcular una aproximación de π. La serie de Leibnitz es una serie infinita que converge a π/4.\n",
    "\n",
    "La función leibnitz es una función auxiliar que calcula cada término de la serie de Leibnitz y los suma recursivamente.\n",
    "\n",
    "\n",
    "**Entrada:** \n",
    "\n",
    "La entrada es n que es un número entero. Determina cuántos términos de la serie se deben sumar para calcular aproximadamente π.\n",
    "\n",
    "**Salida:**\n",
    "\n",
    "Devuelve un número real que es una aproximación de π. Esta se calcula sumando n términos de la serie y multiplicando el resultado por 4. Debido a que  se necesita un numero bastante grande para llegar a π, resulta tardada la ejecución."
   ]
  },
  {
   "cell_type": "code",
   "execution_count": null,
   "id": "ea2d2e5f-9580-4cc7-adbf-d719cd9fff08",
   "metadata": {},
   "outputs": [],
   "source": [
    "(define (calcularpi n)\n",
    "  (define (leibnitz i n)\n",
    "    (if (> i n)\n",
    "        0\n",
    "        (/ (if (even? i) -1 1) (+ (* 2 i) 1) \n",
    "           (+ (leibnitz (+ i 1) n)))))\n",
    "  (* 4 (leibnitz 0 n)))\n",
    "\n",
    "(calcularpi 1000)"
   ]
  }
 ],
 "metadata": {
  "kernelspec": {
   "display_name": "Racket",
   "language": "racket",
   "name": "racket"
  },
  "language_info": {
   "codemirror_mode": "scheme",
   "file_extension": ".rkt",
   "mimetype": "text/x-racket",
   "name": "Racket",
   "pygments_lexer": "racket",
   "version": "8.12"
  }
 },
 "nbformat": 4,
 "nbformat_minor": 5
}
